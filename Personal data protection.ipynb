{
 "cells": [
  {
   "cell_type": "markdown",
   "metadata": {
    "toc": true
   },
   "source": [
    "<h1>Содержание<span class=\"tocSkip\"></span></h1>\n",
    "<div class=\"toc\"><ul class=\"toc-item\"><li><span><a href=\"#Загрузка-данных\" data-toc-modified-id=\"Загрузка-данных-1\"><span class=\"toc-item-num\">1&nbsp;&nbsp;</span>Загрузка данных</a></span><ul class=\"toc-item\"><li><span><a href=\"#Предварительный-анализ-полученных-данных\" data-toc-modified-id=\"Предварительный-анализ-полученных-данных-1.1\"><span class=\"toc-item-num\">1.1&nbsp;&nbsp;</span>Предварительный анализ полученных данных</a></span></li><li><span><a href=\"#Вывод-по-данным\" data-toc-modified-id=\"Вывод-по-данным-1.2\"><span class=\"toc-item-num\">1.2&nbsp;&nbsp;</span>Вывод по данным</a></span></li></ul></li><li><span><a href=\"#Умножение-матриц\" data-toc-modified-id=\"Умножение-матриц-2\"><span class=\"toc-item-num\">2&nbsp;&nbsp;</span>Умножение матриц</a></span><ul class=\"toc-item\"><li><span><a href=\"#Обоснование,-почему-качество-линейной-регрессии-не-поменяется.\" data-toc-modified-id=\"Обоснование,-почему-качество-линейной-регрессии-не-поменяется.-2.1\"><span class=\"toc-item-num\">2.1&nbsp;&nbsp;</span>Обоснование, почему качество линейной регрессии не поменяется.</a></span></li></ul></li><li><span><a href=\"#Обработка-данных\" data-toc-modified-id=\"Обработка-данных-3\"><span class=\"toc-item-num\">3&nbsp;&nbsp;</span>Обработка данных</a></span></li><li><span><a href=\"#Алгоритм-преобразования\" data-toc-modified-id=\"Алгоритм-преобразования-4\"><span class=\"toc-item-num\">4&nbsp;&nbsp;</span>Алгоритм преобразования</a></span></li><li><span><a href=\"#Проверка-алгоритма\" data-toc-modified-id=\"Проверка-алгоритма-5\"><span class=\"toc-item-num\">5&nbsp;&nbsp;</span>Проверка алгоритма</a></span><ul class=\"toc-item\"><li><span><a href=\"#Предварительный-вывод-по-шифрованию-данных\" data-toc-modified-id=\"Предварительный-вывод-по-шифрованию-данных-5.1\"><span class=\"toc-item-num\">5.1&nbsp;&nbsp;</span>Предварительный вывод по шифрованию данных</a></span></li><li><span><a href=\"#Таблица-с-полученными-результатами\" data-toc-modified-id=\"Таблица-с-полученными-результатами-5.2\"><span class=\"toc-item-num\">5.2&nbsp;&nbsp;</span>Таблица с полученными результатами</a></span></li><li><span><a href=\"#Вывод-о-проделанной-работе\" data-toc-modified-id=\"Вывод-о-проделанной-работе-5.3\"><span class=\"toc-item-num\">5.3&nbsp;&nbsp;</span>Вывод о проделанной работе</a></span></li></ul></li><li><span><a href=\"#Чек-лист-проверки\" data-toc-modified-id=\"Чек-лист-проверки-6\"><span class=\"toc-item-num\">6&nbsp;&nbsp;</span>Чек-лист проверки</a></span></li></ul></div>"
   ]
  },
  {
   "cell_type": "markdown",
   "metadata": {},
   "source": [
    "# Защита персональных данных клиентов"
   ]
  },
  {
   "cell_type": "markdown",
   "metadata": {},
   "source": [
    "Вам нужно защитить данные клиентов страховой компании «Хоть потоп». Разработайте такой метод преобразования данных, чтобы по ним было сложно восстановить персональную информацию. Обоснуйте корректность его работы.\n",
    "\n",
    "Нужно защитить данные, чтобы при преобразовании качество моделей машинного обучения не ухудшилось. Подбирать наилучшую модель не требуется."
   ]
  },
  {
   "cell_type": "markdown",
   "metadata": {},
   "source": [
    "## Загрузка данных"
   ]
  },
  {
   "cell_type": "code",
   "execution_count": 1,
   "metadata": {},
   "outputs": [],
   "source": [
    "# скачаем требуемые в работе модули\n",
    "\n",
    "import pandas as pd\n",
    "import numpy as np\n",
    "from sklearn.metrics import r2_score\n",
    "from sklearn.linear_model import LinearRegression\n",
    "from sklearn.model_selection import train_test_split\n",
    "from sklearn.preprocessing import StandardScaler\n",
    "from sklearn.pipeline import Pipeline\n",
    "from IPython.display import Image\n"
   ]
  },
  {
   "cell_type": "code",
   "execution_count": 2,
   "metadata": {},
   "outputs": [],
   "source": [
    "#Назначим константу для random_state\n",
    "RANDOM_STATE = 0"
   ]
  },
  {
   "cell_type": "code",
   "execution_count": 3,
   "metadata": {},
   "outputs": [],
   "source": [
    "# Загрузим таблицу:\n",
    "try:\n",
    "    data = pd.read_csv('insurance.csv')\n",
    "except:\n",
    "    data = pd.read_csv('/datasets/insurance.csv') # если работа ведется в Яндекс Практикум"
   ]
  },
  {
   "cell_type": "code",
   "execution_count": 4,
   "metadata": {},
   "outputs": [
    {
     "data": {
      "text/html": [
       "<div>\n",
       "<style scoped>\n",
       "    .dataframe tbody tr th:only-of-type {\n",
       "        vertical-align: middle;\n",
       "    }\n",
       "\n",
       "    .dataframe tbody tr th {\n",
       "        vertical-align: top;\n",
       "    }\n",
       "\n",
       "    .dataframe thead th {\n",
       "        text-align: right;\n",
       "    }\n",
       "</style>\n",
       "<table border=\"1\" class=\"dataframe\">\n",
       "  <thead>\n",
       "    <tr style=\"text-align: right;\">\n",
       "      <th></th>\n",
       "      <th>Пол</th>\n",
       "      <th>Возраст</th>\n",
       "      <th>Зарплата</th>\n",
       "      <th>Члены семьи</th>\n",
       "      <th>Страховые выплаты</th>\n",
       "    </tr>\n",
       "  </thead>\n",
       "  <tbody>\n",
       "    <tr>\n",
       "      <th>0</th>\n",
       "      <td>1</td>\n",
       "      <td>41.0</td>\n",
       "      <td>49600.0</td>\n",
       "      <td>1</td>\n",
       "      <td>0</td>\n",
       "    </tr>\n",
       "    <tr>\n",
       "      <th>1</th>\n",
       "      <td>0</td>\n",
       "      <td>46.0</td>\n",
       "      <td>38000.0</td>\n",
       "      <td>1</td>\n",
       "      <td>1</td>\n",
       "    </tr>\n",
       "    <tr>\n",
       "      <th>2</th>\n",
       "      <td>0</td>\n",
       "      <td>29.0</td>\n",
       "      <td>21000.0</td>\n",
       "      <td>0</td>\n",
       "      <td>0</td>\n",
       "    </tr>\n",
       "    <tr>\n",
       "      <th>3</th>\n",
       "      <td>0</td>\n",
       "      <td>21.0</td>\n",
       "      <td>41700.0</td>\n",
       "      <td>2</td>\n",
       "      <td>0</td>\n",
       "    </tr>\n",
       "    <tr>\n",
       "      <th>4</th>\n",
       "      <td>1</td>\n",
       "      <td>28.0</td>\n",
       "      <td>26100.0</td>\n",
       "      <td>0</td>\n",
       "      <td>0</td>\n",
       "    </tr>\n",
       "  </tbody>\n",
       "</table>\n",
       "</div>"
      ],
      "text/plain": [
       "   Пол  Возраст  Зарплата  Члены семьи  Страховые выплаты\n",
       "0    1     41.0   49600.0            1                  0\n",
       "1    0     46.0   38000.0            1                  1\n",
       "2    0     29.0   21000.0            0                  0\n",
       "3    0     21.0   41700.0            2                  0\n",
       "4    1     28.0   26100.0            0                  0"
      ]
     },
     "execution_count": 4,
     "metadata": {},
     "output_type": "execute_result"
    }
   ],
   "source": [
    "# Рассмотрим и проверим данные\n",
    "\n",
    "data.head()"
   ]
  },
  {
   "cell_type": "code",
   "execution_count": 5,
   "metadata": {},
   "outputs": [
    {
     "name": "stdout",
     "output_type": "stream",
     "text": [
      "<class 'pandas.core.frame.DataFrame'>\n",
      "RangeIndex: 5000 entries, 0 to 4999\n",
      "Data columns (total 5 columns):\n",
      " #   Column             Non-Null Count  Dtype  \n",
      "---  ------             --------------  -----  \n",
      " 0   Пол                5000 non-null   int64  \n",
      " 1   Возраст            5000 non-null   float64\n",
      " 2   Зарплата           5000 non-null   float64\n",
      " 3   Члены семьи        5000 non-null   int64  \n",
      " 4   Страховые выплаты  5000 non-null   int64  \n",
      "dtypes: float64(2), int64(3)\n",
      "memory usage: 195.4 KB\n"
     ]
    }
   ],
   "source": [
    "data.info()"
   ]
  },
  {
   "cell_type": "markdown",
   "metadata": {},
   "source": [
    "Пропуски не обнаружены, возраст и зарплата сохранены в формате float, необходимо будет перевести в формат целого цисла для удобства и сохранения места на диске."
   ]
  },
  {
   "cell_type": "code",
   "execution_count": 6,
   "metadata": {},
   "outputs": [
    {
     "data": {
      "text/html": [
       "<div>\n",
       "<style scoped>\n",
       "    .dataframe tbody tr th:only-of-type {\n",
       "        vertical-align: middle;\n",
       "    }\n",
       "\n",
       "    .dataframe tbody tr th {\n",
       "        vertical-align: top;\n",
       "    }\n",
       "\n",
       "    .dataframe thead th {\n",
       "        text-align: right;\n",
       "    }\n",
       "</style>\n",
       "<table border=\"1\" class=\"dataframe\">\n",
       "  <thead>\n",
       "    <tr style=\"text-align: right;\">\n",
       "      <th></th>\n",
       "      <th>Пол</th>\n",
       "      <th>Возраст</th>\n",
       "      <th>Зарплата</th>\n",
       "      <th>Члены семьи</th>\n",
       "      <th>Страховые выплаты</th>\n",
       "    </tr>\n",
       "  </thead>\n",
       "  <tbody>\n",
       "    <tr>\n",
       "      <th>count</th>\n",
       "      <td>5000.000000</td>\n",
       "      <td>5000.000000</td>\n",
       "      <td>5000.000000</td>\n",
       "      <td>5000.000000</td>\n",
       "      <td>5000.000000</td>\n",
       "    </tr>\n",
       "    <tr>\n",
       "      <th>mean</th>\n",
       "      <td>0.499000</td>\n",
       "      <td>30.952800</td>\n",
       "      <td>39916.360000</td>\n",
       "      <td>1.194200</td>\n",
       "      <td>0.148000</td>\n",
       "    </tr>\n",
       "    <tr>\n",
       "      <th>std</th>\n",
       "      <td>0.500049</td>\n",
       "      <td>8.440807</td>\n",
       "      <td>9900.083569</td>\n",
       "      <td>1.091387</td>\n",
       "      <td>0.463183</td>\n",
       "    </tr>\n",
       "    <tr>\n",
       "      <th>min</th>\n",
       "      <td>0.000000</td>\n",
       "      <td>18.000000</td>\n",
       "      <td>5300.000000</td>\n",
       "      <td>0.000000</td>\n",
       "      <td>0.000000</td>\n",
       "    </tr>\n",
       "    <tr>\n",
       "      <th>25%</th>\n",
       "      <td>0.000000</td>\n",
       "      <td>24.000000</td>\n",
       "      <td>33300.000000</td>\n",
       "      <td>0.000000</td>\n",
       "      <td>0.000000</td>\n",
       "    </tr>\n",
       "    <tr>\n",
       "      <th>50%</th>\n",
       "      <td>0.000000</td>\n",
       "      <td>30.000000</td>\n",
       "      <td>40200.000000</td>\n",
       "      <td>1.000000</td>\n",
       "      <td>0.000000</td>\n",
       "    </tr>\n",
       "    <tr>\n",
       "      <th>75%</th>\n",
       "      <td>1.000000</td>\n",
       "      <td>37.000000</td>\n",
       "      <td>46600.000000</td>\n",
       "      <td>2.000000</td>\n",
       "      <td>0.000000</td>\n",
       "    </tr>\n",
       "    <tr>\n",
       "      <th>max</th>\n",
       "      <td>1.000000</td>\n",
       "      <td>65.000000</td>\n",
       "      <td>79000.000000</td>\n",
       "      <td>6.000000</td>\n",
       "      <td>5.000000</td>\n",
       "    </tr>\n",
       "  </tbody>\n",
       "</table>\n",
       "</div>"
      ],
      "text/plain": [
       "               Пол      Возраст      Зарплата  Члены семьи  Страховые выплаты\n",
       "count  5000.000000  5000.000000   5000.000000  5000.000000        5000.000000\n",
       "mean      0.499000    30.952800  39916.360000     1.194200           0.148000\n",
       "std       0.500049     8.440807   9900.083569     1.091387           0.463183\n",
       "min       0.000000    18.000000   5300.000000     0.000000           0.000000\n",
       "25%       0.000000    24.000000  33300.000000     0.000000           0.000000\n",
       "50%       0.000000    30.000000  40200.000000     1.000000           0.000000\n",
       "75%       1.000000    37.000000  46600.000000     2.000000           0.000000\n",
       "max       1.000000    65.000000  79000.000000     6.000000           5.000000"
      ]
     },
     "execution_count": 6,
     "metadata": {},
     "output_type": "execute_result"
    }
   ],
   "source": [
    "data.describe()"
   ]
  },
  {
   "cell_type": "code",
   "execution_count": 7,
   "metadata": {},
   "outputs": [
    {
     "data": {
      "text/plain": [
       "array([[<AxesSubplot:title={'center':'Пол'}>,\n",
       "        <AxesSubplot:title={'center':'Возраст'}>],\n",
       "       [<AxesSubplot:title={'center':'Зарплата'}>,\n",
       "        <AxesSubplot:title={'center':'Члены семьи'}>],\n",
       "       [<AxesSubplot:title={'center':'Страховые выплаты'}>,\n",
       "        <AxesSubplot:>]], dtype=object)"
      ]
     },
     "execution_count": 7,
     "metadata": {},
     "output_type": "execute_result"
    },
    {
     "data": {
      "image/png": "[encoded data removed]",
      "text/plain": [
       "<Figure size 1080x1080 with 6 Axes>"
      ]
     },
     "metadata": {
      "needs_background": "light"
     },
     "output_type": "display_data"
    }
   ],
   "source": [
    "data.hist(figsize=(15, 15))"
   ]
  },
  {
   "cell_type": "markdown",
   "metadata": {},
   "source": [
    "Минимальный возраст - 18 лет, максимальный - 65, выглядит логично. Большая часть клиентов от 20 до 30 лет. Средняя зарплата в районе 35-42 тысяч. Членов семьи от нуля до шести, что также допустимо. \n",
    "\n",
    "Можно говорить о том, что выбросов не обнаружено."
   ]
  },
  {
   "cell_type": "code",
   "execution_count": 8,
   "metadata": {},
   "outputs": [
    {
     "name": "stdout",
     "output_type": "stream",
     "text": [
      "Количество дубликатов в таблице: 153\n"
     ]
    }
   ],
   "source": [
    "# Проверим данные на дубликаты\n",
    "\n",
    "print(\"Количество дубликатов в таблице:\", data.duplicated().sum())"
   ]
  },
  {
   "cell_type": "markdown",
   "metadata": {},
   "source": [
    "Обнаружено 153 дубликата, необходимо будет их убрать."
   ]
  },
  {
   "cell_type": "markdown",
   "metadata": {},
   "source": [
    "### Предварительный анализ полученных данных\n",
    "\n",
    "- Пропусков не обнаружено,\n",
    "- Данные не содержат выбросы,\n",
    "- Два поля хранят информацию в формате float, но будет логично заменить на формат int,\n",
    "- Обнаружены дубликаты, которые необходимо убрать."
   ]
  },
  {
   "cell_type": "code",
   "execution_count": 9,
   "metadata": {},
   "outputs": [
    {
     "name": "stdout",
     "output_type": "stream",
     "text": [
      "<class 'pandas.core.frame.DataFrame'>\n",
      "RangeIndex: 5000 entries, 0 to 4999\n",
      "Data columns (total 5 columns):\n",
      " #   Column             Non-Null Count  Dtype\n",
      "---  ------             --------------  -----\n",
      " 0   Пол                5000 non-null   int64\n",
      " 1   Возраст            5000 non-null   int64\n",
      " 2   Зарплата           5000 non-null   int64\n",
      " 3   Члены семьи        5000 non-null   int64\n",
      " 4   Страховые выплаты  5000 non-null   int64\n",
      "dtypes: int64(5)\n",
      "memory usage: 195.4 KB\n"
     ]
    }
   ],
   "source": [
    "# Переведем столбцы \"Возраст\" и \"Зарплата\" в формат целого числа.\n",
    "\n",
    "data['Возраст'] = data['Возраст'].astype('int')\n",
    "data['Зарплата'] = data['Зарплата'].astype('int')\n",
    "\n",
    "# Проверим работу кода\n",
    "data.info()"
   ]
  },
  {
   "cell_type": "code",
   "execution_count": 10,
   "metadata": {},
   "outputs": [
    {
     "name": "stdout",
     "output_type": "stream",
     "text": [
      "Количество дубликатов в таблице: 0\n"
     ]
    }
   ],
   "source": [
    "# Удалим дубликаты\n",
    "data = data.drop_duplicates().reset_index(drop=True)\n",
    "\n",
    "# Проверим работу кода\n",
    "print(\"Количество дубликатов в таблице:\", data.duplicated().sum())"
   ]
  },
  {
   "cell_type": "markdown",
   "metadata": {},
   "source": [
    "### Вывод по данным\n",
    "\n",
    "- Были обработаны столбцы \"Возраст\" и \"Зарплата\" с изменением формата данных,\n",
    "- Были удалены явные дубликаты."
   ]
  },
  {
   "cell_type": "markdown",
   "metadata": {},
   "source": [
    "## Умножение матриц"
   ]
  },
  {
   "cell_type": "markdown",
   "metadata": {},
   "source": [
    "В этом задании вы можете записывать формулы в *Jupyter Notebook.*\n",
    "\n",
    "Чтобы записать формулу внутри текста, окружите её символами доллара \\\\$; если снаружи —  двойными символами \\\\$\\\\$. Эти формулы записываются на языке вёрстки *LaTeX.* \n",
    "\n",
    "Для примера мы записали формулы линейной регрессии. Можете их скопировать и отредактировать, чтобы решить задачу.\n",
    "\n",
    "Работать в *LaTeX* необязательно."
   ]
  },
  {
   "cell_type": "markdown",
   "metadata": {},
   "source": [
    "Обозначения:\n",
    "\n",
    "- $X$ — матрица признаков (нулевой столбец состоит из единиц)\n",
    "\n",
    "- $y$ — вектор целевого признака\n",
    "\n",
    "- $P$ — матрица, на которую умножаются признаки\n",
    "\n",
    "- $w$ — вектор весов линейной регрессии (нулевой элемент равен сдвигу)"
   ]
  },
  {
   "cell_type": "markdown",
   "metadata": {},
   "source": [
    "Предсказания:\n",
    "\n",
    "$$\n",
    "a = Xw\n",
    "$$\n",
    "\n",
    "Задача обучения:\n",
    "\n",
    "$$\n",
    "w = \\arg\\min_w MSE(Xw, y)\n",
    "$$\n",
    "\n",
    "Формула обучения:\n",
    "\n",
    "$$\n",
    "w = (X^T X)^{-1} X^T y\n",
    "$$"
   ]
  },
  {
   "attachments": {},
   "cell_type": "markdown",
   "metadata": {},
   "source": [
    "В данном проекте обязательно нужно сделать теоретическое доказательство.\n",
    "    \n",
    "Нужно доказать, что $a_1 = a$, где $a_1 = X_1 w_1$ — предсказания на зашифрованных признаках.\n",
    "    \n",
    "$X_1 = XP$ — матрица зашифрованных признаков.\n",
    "    \n",
    "Удобнее всего преобразовать выражение для $w_1$, подставив туда матрицы признаков $X_1$. \n",
    "    \n",
    "При доказательстве в выражении $(X^T X)^{-1}$ нельзя раскрывать скобки, так как матрицы $X$ и $X^T$ прямоугольные и для них не существует обратных матриц, то есть нельзя записывать $(X^T)^{-1}$ и $X^{-1}$.\n",
    "    \n",
    "Необходимо учитывать формулы матричных операций:\n",
    "    \n",
    "$(AB)^T = B^T A^T$; $(AB)^{-1} = B^{-1}A^{-1}$; $AE = EA = A $    \n",
    "    \n",
    "Сначала нужно раскрыть скобки в операции транспонирования $(XP)^T$, а затем извлечь из-за скобок матрицы $P$ и $P^T$, а выражение $(X^T X)^{-1}$ оставить без изменений.\n"
   ]
  },
  {
   "cell_type": "markdown",
   "metadata": {},
   "source": [
    "### Обоснование, почему качество линейной регрессии не поменяется.\n",
    "\n",
    "1 - Представим новую матрицу признаков $X_1$ как произведение старой $X$ на матрицу $P$(обратимую), то есть матрицу зашифрованных признаков:\n",
    "$$ X_1=XP $$\n",
    "\n",
    "2 - Подставим новое значение $X_1$ в формулу $w_1$:\n",
    "$$ w_1 = ((XP)^T XP)^{-1} (XP)^T y $$\n",
    "\n",
    "3 - Раскроем первое произведение $(XP)^T$:\n",
    "$$ w_1 = (P^TX^T XP)^{-1} P^TX^T y $$\n",
    "\n",
    "4 - Перегруппируем множители в скобках, чтобы это выглядело как произведение трех множителей:\n",
    "$$ w_1 = (P^T(X^T X)P)^{-1} P^TX^T y $$\n",
    "\n",
    "5 - Раскроем скобки $ (P^T(X^T X)P)^{-1} $:\n",
    "$$ w_1 = P^{-1}(X^T X)^{-1} (P^T)^{-1}P^TX^T y $$\n",
    "\n",
    "6 - Так как $P$ по условию обратимая, то произведение $(P^T)^{-1}P^T$ равно $E$ (единичная матрица):\n",
    "$$ w_1 = P^{-1}(X^T X)^{-1} EX^T y = P^{-1}(X^T X)^{-1} X^T y $$\n",
    "\n",
    "7 - Можно заметить, что справа получилась формула для $w$:\n",
    "$$ w_1 = P^{-1}(X^T X)^{-1} X^T y = P^{-1}w $$\n",
    "\n",
    "8 - Подставим новое значение весов $w_1$ в формулу для предсказаний линейной регрессии. Предсказания модели расчитываются по формуле:\n",
    "$$ a = Xw $$\n",
    "\n",
    "9 - Подставим в эту формулу значения $X_1$ и $w_1$ для того, чтобы на их основе вычислить предсказания модели $a_1$:\n",
    "$$ a_1 = X_1w_1 = XPP^{-1}w $$\n",
    "\n",
    "10 - Так как $P$ по условию обратимая, то произведение $PP^{-1}$ снова равно единичной матрице $E$:\n",
    "$$ a_1 = XPP^{-1}w = XEw = Xw = a $$\n",
    "\n",
    "Мы доказали, что предсказания $a_1$ для матрицы признаков, умноженных на обратимую матрицу $P$ равны предсказаниям $a$. Следовательно, отвечая на вопрос изменится ли качество линейной регрессии при умножении признаков на обратимую матрицу, можно утверждать, что не изменится. В данном случае, параметры линейной регрессии в исходной задаче $w$ и в преобразованной $w_1$ связаны следующим образом: \n",
    "$$ w_1 = P^{-1}w $$\n"
   ]
  },
  {
   "cell_type": "markdown",
   "metadata": {},
   "source": [
    "## Обработка данных"
   ]
  },
  {
   "cell_type": "code",
   "execution_count": 11,
   "metadata": {},
   "outputs": [],
   "source": [
    "# Разделим данные на признаки и целевую выборку\n",
    "features = data.drop(['Страховые выплаты'], axis=1)\n",
    "target = data['Страховые выплаты']"
   ]
  },
  {
   "cell_type": "code",
   "execution_count": 12,
   "metadata": {},
   "outputs": [],
   "source": [
    "# Создадим тренировочный и тестовый датасеты\n",
    "features_train, features_test, target_train, target_test = train_test_split(\n",
    "    features, target, test_size=0.25, random_state=RANDOM_STATE)"
   ]
  },
  {
   "cell_type": "code",
   "execution_count": 13,
   "metadata": {},
   "outputs": [
    {
     "name": "stdout",
     "output_type": "stream",
     "text": [
      "Размер тренировочного датасета - 75%\n",
      "Размер тестового датасета - 25%\n"
     ]
    }
   ],
   "source": [
    "# Проверим результаты\n",
    "\n",
    "print('Размер тренировочного датасета - {:.0%}'.format(\n",
    "    features_train.shape[0]/features.shape[0]))\n",
    "print('Размер тестового датасета - {:.0%}'.format(\n",
    "    target_test.shape[0]/target.shape[0]))"
   ]
  },
  {
   "cell_type": "markdown",
   "metadata": {},
   "source": [
    "## Алгоритм преобразования"
   ]
  },
  {
   "cell_type": "markdown",
   "metadata": {},
   "source": [
    "**Алгоритм**\n",
    "\n",
    "Для защиты данных мы будем умножать матрицу признаков на обратимую матрицу, которая будет генерироваться случайно."
   ]
  },
  {
   "cell_type": "markdown",
   "metadata": {},
   "source": [
    "**Обоснование**\n",
    "\n"
   ]
  },
  {
   "attachments": {
    "pic1.jpg": {
     "image/jpeg": "[encoded data removed]"
    }
   },
   "cell_type": "markdown",
   "metadata": {},
   "source": [
    "![pic1.jpg](attachment:pic1.jpg)"
   ]
  },
  {
   "cell_type": "markdown",
   "metadata": {},
   "source": [
    "## Проверка алгоритма"
   ]
  },
  {
   "cell_type": "code",
   "execution_count": 15,
   "metadata": {},
   "outputs": [
    {
     "name": "stdout",
     "output_type": "stream",
     "text": [
      "R2 = 0.41145126195254345\n"
     ]
    }
   ],
   "source": [
    "# Инициализация модели линейной регрессии без масштабирования\n",
    "\n",
    "model = LinearRegression()\n",
    "model.fit(features_train, target_train)\n",
    "print(\"R2 =\", r2_score(target_test, model.predict(features_test)))\n"
   ]
  },
  {
   "cell_type": "code",
   "execution_count": 16,
   "metadata": {},
   "outputs": [
    {
     "name": "stdout",
     "output_type": "stream",
     "text": [
      "R2 = 0.41145126195254345\n"
     ]
    }
   ],
   "source": [
    "# Инициализация модели линейной регрессии c масштабированием\n",
    "# Используем пайплайн для поочередного запуска скалера и регрессора\n",
    "\n",
    "lr = LinearRegression()\n",
    "ss = StandardScaler()\n",
    "pipeline = Pipeline([(\"standard_scaler\", ss),(\"linear_regression\", lr)])\n",
    "pipeline.fit(features_train, target_train)\n",
    "print(\"R2 =\", r2_score(target_test, pipeline.predict(features_test)))"
   ]
  },
  {
   "cell_type": "markdown",
   "metadata": {},
   "source": [
    "Разница получилась очень незначительной."
   ]
  },
  {
   "cell_type": "code",
   "execution_count": 17,
   "metadata": {},
   "outputs": [
    {
     "name": "stdout",
     "output_type": "stream",
     "text": [
      "[[-0.31746032  0.17460317  0.17460317 -0.12698413]\n",
      " [-0.32275132  0.22751323 -0.10582011  0.13756614]\n",
      " [ 0.3015873  -0.01587302 -0.01587302 -0.07936508]\n",
      " [ 0.26455026 -0.31216931  0.02116402  0.10582011]]\n"
     ]
    }
   ],
   "source": [
    "# Создадим матрицу, содержающую случайные значения\n",
    "\n",
    "n = features.shape[1]\n",
    "random_matrix = np.random.randint(1, 10, (n, n))\n",
    "\n",
    "#Признаки защищенные\n",
    "\n",
    "encrypted_features = features @ random_matrix\n",
    "\n",
    "# Проверим работу кода\n",
    "print(np.linalg.inv(random_matrix))"
   ]
  },
  {
   "cell_type": "code",
   "execution_count": 18,
   "metadata": {},
   "outputs": [
    {
     "data": {
      "text/html": [
       "<div>\n",
       "<style scoped>\n",
       "    .dataframe tbody tr th:only-of-type {\n",
       "        vertical-align: middle;\n",
       "    }\n",
       "\n",
       "    .dataframe tbody tr th {\n",
       "        vertical-align: top;\n",
       "    }\n",
       "\n",
       "    .dataframe thead th {\n",
       "        text-align: right;\n",
       "    }\n",
       "</style>\n",
       "<table border=\"1\" class=\"dataframe\">\n",
       "  <thead>\n",
       "    <tr style=\"text-align: right;\">\n",
       "      <th></th>\n",
       "      <th>Пол</th>\n",
       "      <th>Возраст</th>\n",
       "      <th>Зарплата</th>\n",
       "      <th>Члены семьи</th>\n",
       "    </tr>\n",
       "  </thead>\n",
       "  <tbody>\n",
       "    <tr>\n",
       "      <th>0</th>\n",
       "      <td>1</td>\n",
       "      <td>41</td>\n",
       "      <td>49600</td>\n",
       "      <td>1</td>\n",
       "    </tr>\n",
       "    <tr>\n",
       "      <th>1</th>\n",
       "      <td>0</td>\n",
       "      <td>46</td>\n",
       "      <td>38000</td>\n",
       "      <td>1</td>\n",
       "    </tr>\n",
       "    <tr>\n",
       "      <th>2</th>\n",
       "      <td>0</td>\n",
       "      <td>29</td>\n",
       "      <td>21000</td>\n",
       "      <td>0</td>\n",
       "    </tr>\n",
       "    <tr>\n",
       "      <th>3</th>\n",
       "      <td>0</td>\n",
       "      <td>21</td>\n",
       "      <td>41700</td>\n",
       "      <td>2</td>\n",
       "    </tr>\n",
       "    <tr>\n",
       "      <th>4</th>\n",
       "      <td>1</td>\n",
       "      <td>28</td>\n",
       "      <td>26100</td>\n",
       "      <td>0</td>\n",
       "    </tr>\n",
       "  </tbody>\n",
       "</table>\n",
       "</div>"
      ],
      "text/plain": [
       "   Пол  Возраст  Зарплата  Члены семьи\n",
       "0    1       41     49600            1\n",
       "1    0       46     38000            1\n",
       "2    0       29     21000            0\n",
       "3    0       21     41700            2\n",
       "4    1       28     26100            0"
      ]
     },
     "metadata": {},
     "output_type": "display_data"
    },
    {
     "data": {
      "text/plain": [
       "(4847, 4)"
      ]
     },
     "metadata": {},
     "output_type": "display_data"
    },
    {
     "data": {
      "text/html": [
       "<div>\n",
       "<style scoped>\n",
       "    .dataframe tbody tr th:only-of-type {\n",
       "        vertical-align: middle;\n",
       "    }\n",
       "\n",
       "    .dataframe tbody tr th {\n",
       "        vertical-align: top;\n",
       "    }\n",
       "\n",
       "    .dataframe thead th {\n",
       "        text-align: right;\n",
       "    }\n",
       "</style>\n",
       "<table border=\"1\" class=\"dataframe\">\n",
       "  <thead>\n",
       "    <tr style=\"text-align: right;\">\n",
       "      <th></th>\n",
       "      <th>0</th>\n",
       "      <th>1</th>\n",
       "      <th>2</th>\n",
       "      <th>3</th>\n",
       "    </tr>\n",
       "  </thead>\n",
       "  <tbody>\n",
       "    <tr>\n",
       "      <th>0</th>\n",
       "      <td>446571</td>\n",
       "      <td>297858</td>\n",
       "      <td>397141</td>\n",
       "      <td>446535</td>\n",
       "    </tr>\n",
       "    <tr>\n",
       "      <th>1</th>\n",
       "      <td>342189</td>\n",
       "      <td>228285</td>\n",
       "      <td>304375</td>\n",
       "      <td>342147</td>\n",
       "    </tr>\n",
       "    <tr>\n",
       "      <th>2</th>\n",
       "      <td>189116</td>\n",
       "      <td>126174</td>\n",
       "      <td>168232</td>\n",
       "      <td>189087</td>\n",
       "    </tr>\n",
       "    <tr>\n",
       "      <th>3</th>\n",
       "      <td>375394</td>\n",
       "      <td>250344</td>\n",
       "      <td>333782</td>\n",
       "      <td>375381</td>\n",
       "    </tr>\n",
       "    <tr>\n",
       "      <th>4</th>\n",
       "      <td>235014</td>\n",
       "      <td>156771</td>\n",
       "      <td>209030</td>\n",
       "      <td>234987</td>\n",
       "    </tr>\n",
       "  </tbody>\n",
       "</table>\n",
       "</div>"
      ],
      "text/plain": [
       "        0       1       2       3\n",
       "0  446571  297858  397141  446535\n",
       "1  342189  228285  304375  342147\n",
       "2  189116  126174  168232  189087\n",
       "3  375394  250344  333782  375381\n",
       "4  235014  156771  209030  234987"
      ]
     },
     "metadata": {},
     "output_type": "display_data"
    },
    {
     "data": {
      "text/plain": [
       "(4847, 4)"
      ]
     },
     "metadata": {},
     "output_type": "display_data"
    }
   ],
   "source": [
    "# Сравним исходные данные и обработанные\n",
    "\n",
    "display(features.head())\n",
    "display(features.shape)\n",
    "display(encrypted_features.head())\n",
    "display(encrypted_features.shape)\n"
   ]
  },
  {
   "cell_type": "markdown",
   "metadata": {},
   "source": [
    "### Предварительный вывод по шифрованию данных\n",
    "\n",
    "Можно заметить, что теперь в новом формате данные отображаются в виде новых чисел, но размеры таблиц сохранились."
   ]
  },
  {
   "cell_type": "code",
   "execution_count": 19,
   "metadata": {},
   "outputs": [],
   "source": [
    "# Создадим из зашифрованных данных тренировочный и тестовый датасеты\n",
    "\n",
    "features_train_enc, features_test_enc, target_train_enc, target_test_enc = train_test_split(\n",
    "    encrypted_features, target, test_size=0.25, random_state=RANDOM_STATE)"
   ]
  },
  {
   "cell_type": "code",
   "execution_count": 20,
   "metadata": {},
   "outputs": [
    {
     "name": "stdout",
     "output_type": "stream",
     "text": [
      "R2 = 0.4114512619525049\n"
     ]
    }
   ],
   "source": [
    "# Инициализация модели линейной регрессии без масштабирования для зашифрованных данных\n",
    "\n",
    "model = LinearRegression()\n",
    "model.fit(features_train_enc, target_train_enc)\n",
    "print(\"R2 =\", r2_score(target_test_enc, model.predict(features_test_enc)))"
   ]
  },
  {
   "cell_type": "code",
   "execution_count": 21,
   "metadata": {},
   "outputs": [
    {
     "name": "stdout",
     "output_type": "stream",
     "text": [
      "R2 = 0.41145126195253223\n"
     ]
    }
   ],
   "source": [
    "# Инициализация модели линейной регрессии c масштабированием для зашифрованных данных\n",
    "# Используем пайплайн для поочередного запуска скалера и регрессора\n",
    "\n",
    "lr = LinearRegression()\n",
    "ss = StandardScaler()\n",
    "pipeline = Pipeline([(\"standard_scaler\", ss),(\"linear_regression\", lr)])\n",
    "pipeline.fit(features_train_enc, target_train_enc)\n",
    "print(\"R2 =\", r2_score(target_test_enc, pipeline.predict(features_test_enc)))"
   ]
  },
  {
   "cell_type": "markdown",
   "metadata": {},
   "source": [
    "### Таблица с полученными результатами\n",
    "\n",
    "| Вид обработки                             | Результат R2             |\n",
    "|-------------------------------------------|--------------------------|\n",
    "| Исходные данные без масштабирования       | R2 = 0.41145126195254345 |\n",
    "| Исходные данные c масштабированием        | R2 = 0.41145126195254356 |\n",
    "| Закодированные данные без масштабирования | R2 = 0.4114512619525452  |\n",
    "| Закодированные данные c масштабированием  | R2 = 0.41145126195254456 |"
   ]
  },
  {
   "cell_type": "markdown",
   "metadata": {},
   "source": [
    "По результатам в таблице можно заметить, что отличия в R2 есть, но они начинаются после 13-ой цифры от запятой."
   ]
  },
  {
   "cell_type": "markdown",
   "metadata": {},
   "source": [
    "## Чек-лист проверки"
   ]
  },
  {
   "cell_type": "markdown",
   "metadata": {},
   "source": [
    "Поставьте 'x' в выполненных пунктах. Далее нажмите Shift+Enter."
   ]
  },
  {
   "cell_type": "markdown",
   "metadata": {},
   "source": [
    "- [x]  Jupyter Notebook открыт\n",
    "- [x]  Весь код выполняется без ошибок\n",
    "- [x]  Ячейки с кодом расположены в порядке исполнения\n",
    "- [x]  Выполнен шаг 1: данные загружены\n",
    "- [x]  Выполнен шаг 2: получен ответ на вопрос об умножении матриц\n",
    "    - [x]  Указан правильный вариант ответа\n",
    "    - [x]  Вариант обоснован\n",
    "- [x]  Выполнен шаг 3: предложен алгоритм преобразования\n",
    "    - [x]  Алгоритм описан\n",
    "    - [x]  Алгоритм обоснован\n",
    "- [x]  Выполнен шаг 4: алгоритм проверен\n",
    "    - [x]  Алгоритм реализован\n",
    "    - [x]  Проведено сравнение качества моделей до и после преобразования"
   ]
  },
  {
   "cell_type": "code",
   "execution_count": null,
   "metadata": {},
   "outputs": [],
   "source": []
  }
 ],
 "metadata": {
  "ExecuteTimeLog": [
   {
    "duration": 4538,
    "start_time": "2022-12-05T17:03:47.700Z"
   },
   {
    "duration": 3,
    "start_time": "2022-12-05T17:03:52.240Z"
   },
   {
    "duration": 140,
    "start_time": "2022-12-05T17:03:52.245Z"
   },
   {
    "duration": 15,
    "start_time": "2022-12-05T17:03:52.387Z"
   },
   {
    "duration": 11,
    "start_time": "2022-12-05T17:03:52.404Z"
   },
   {
    "duration": 25,
    "start_time": "2022-12-05T17:03:52.417Z"
   },
   {
    "duration": 887,
    "start_time": "2022-12-05T17:03:52.444Z"
   },
   {
    "duration": 5,
    "start_time": "2022-12-05T17:03:53.333Z"
   },
   {
    "duration": 14,
    "start_time": "2022-12-05T17:03:53.340Z"
   },
   {
    "duration": 28,
    "start_time": "2022-12-05T17:03:53.356Z"
   },
   {
    "duration": 5,
    "start_time": "2022-12-05T17:03:53.386Z"
   },
   {
    "duration": 7,
    "start_time": "2022-12-05T17:03:53.392Z"
   },
   {
    "duration": 6,
    "start_time": "2022-12-05T17:03:53.400Z"
   },
   {
    "duration": 91,
    "start_time": "2022-12-05T17:03:53.408Z"
   },
   {
    "duration": 8,
    "start_time": "2022-12-05T17:03:53.501Z"
   },
   {
    "duration": 13,
    "start_time": "2022-12-05T17:03:53.510Z"
   },
   {
    "duration": 5,
    "start_time": "2022-12-05T17:03:53.525Z"
   },
   {
    "duration": 60,
    "start_time": "2022-12-05T17:03:53.532Z"
   },
   {
    "duration": 85,
    "start_time": "2022-12-05T17:03:53.594Z"
   },
   {
    "duration": 13,
    "start_time": "2022-12-05T17:03:53.681Z"
   },
   {
    "duration": 16,
    "start_time": "2022-12-05T17:03:53.696Z"
   },
   {
    "duration": 84,
    "start_time": "2022-12-05T17:04:37.789Z"
   },
   {
    "duration": 8,
    "start_time": "2022-12-05T17:04:50.150Z"
   },
   {
    "duration": 11,
    "start_time": "2022-12-05T17:04:50.797Z"
   },
   {
    "duration": 5,
    "start_time": "2022-12-05T17:04:51.261Z"
   },
   {
    "duration": 14,
    "start_time": "2022-12-05T17:04:51.461Z"
   },
   {
    "duration": 5,
    "start_time": "2022-12-05T17:04:52.037Z"
   },
   {
    "duration": 9,
    "start_time": "2022-12-05T17:04:52.237Z"
   },
   {
    "duration": 11,
    "start_time": "2022-12-05T17:04:52.382Z"
   },
   {
    "duration": 4634,
    "start_time": "2022-12-05T17:05:00.871Z"
   },
   {
    "duration": 3,
    "start_time": "2022-12-05T17:05:05.507Z"
   },
   {
    "duration": 80,
    "start_time": "2022-12-05T17:05:05.512Z"
   },
   {
    "duration": 15,
    "start_time": "2022-12-05T17:05:05.594Z"
   },
   {
    "duration": 11,
    "start_time": "2022-12-05T17:05:05.610Z"
   },
   {
    "duration": 27,
    "start_time": "2022-12-05T17:05:05.622Z"
   },
   {
    "duration": 884,
    "start_time": "2022-12-05T17:05:05.650Z"
   },
   {
    "duration": 6,
    "start_time": "2022-12-05T17:05:06.536Z"
   },
   {
    "duration": 16,
    "start_time": "2022-12-05T17:05:06.544Z"
   },
   {
    "duration": 8,
    "start_time": "2022-12-05T17:05:06.578Z"
   },
   {
    "duration": 14,
    "start_time": "2022-12-05T17:05:06.587Z"
   },
   {
    "duration": 14,
    "start_time": "2022-12-05T17:05:06.603Z"
   },
   {
    "duration": 9,
    "start_time": "2022-12-05T17:05:06.619Z"
   },
   {
    "duration": 92,
    "start_time": "2022-12-05T17:05:06.629Z"
   },
   {
    "duration": 8,
    "start_time": "2022-12-05T17:05:06.723Z"
   },
   {
    "duration": 13,
    "start_time": "2022-12-05T17:05:06.733Z"
   },
   {
    "duration": 12,
    "start_time": "2022-12-05T17:05:06.747Z"
   },
   {
    "duration": 31,
    "start_time": "2022-12-05T17:05:06.760Z"
   },
   {
    "duration": 5,
    "start_time": "2022-12-05T17:05:06.792Z"
   },
   {
    "duration": 9,
    "start_time": "2022-12-05T17:05:06.879Z"
   },
   {
    "duration": 13,
    "start_time": "2022-12-05T17:05:06.890Z"
   },
   {
    "duration": 9,
    "start_time": "2022-12-06T08:37:43.097Z"
   },
   {
    "duration": 360,
    "start_time": "2022-12-06T09:42:50.534Z"
   },
   {
    "duration": 1010,
    "start_time": "2022-12-06T09:43:10.797Z"
   },
   {
    "duration": 2,
    "start_time": "2022-12-06T09:43:11.809Z"
   },
   {
    "duration": 176,
    "start_time": "2022-12-06T09:43:11.812Z"
   },
   {
    "duration": 15,
    "start_time": "2022-12-06T09:43:11.990Z"
   },
   {
    "duration": 34,
    "start_time": "2022-12-06T09:43:12.006Z"
   },
   {
    "duration": 29,
    "start_time": "2022-12-06T09:43:12.041Z"
   },
   {
    "duration": 991,
    "start_time": "2022-12-06T09:43:12.072Z"
   },
   {
    "duration": 5,
    "start_time": "2022-12-06T09:43:13.065Z"
   },
   {
    "duration": 40,
    "start_time": "2022-12-06T09:43:13.072Z"
   },
   {
    "duration": 50,
    "start_time": "2022-12-06T09:43:13.114Z"
   },
   {
    "duration": 35,
    "start_time": "2022-12-06T09:43:13.166Z"
   },
   {
    "duration": 48,
    "start_time": "2022-12-06T09:43:13.202Z"
   },
   {
    "duration": 40,
    "start_time": "2022-12-06T09:43:13.252Z"
   },
   {
    "duration": 89,
    "start_time": "2022-12-06T09:46:41.191Z"
   },
   {
    "duration": 1022,
    "start_time": "2022-12-06T09:47:47.345Z"
   },
   {
    "duration": 3,
    "start_time": "2022-12-06T09:47:48.369Z"
   },
   {
    "duration": 81,
    "start_time": "2022-12-06T09:47:48.373Z"
   },
   {
    "duration": 13,
    "start_time": "2022-12-06T09:47:48.455Z"
   },
   {
    "duration": 10,
    "start_time": "2022-12-06T09:47:48.470Z"
   },
   {
    "duration": 21,
    "start_time": "2022-12-06T09:47:48.481Z"
   },
   {
    "duration": 833,
    "start_time": "2022-12-06T09:47:48.504Z"
   },
   {
    "duration": 5,
    "start_time": "2022-12-06T09:47:49.339Z"
   },
   {
    "duration": 24,
    "start_time": "2022-12-06T09:47:49.345Z"
   },
   {
    "duration": 9,
    "start_time": "2022-12-06T09:47:49.371Z"
   },
   {
    "duration": 6,
    "start_time": "2022-12-06T09:47:49.382Z"
   },
   {
    "duration": 11,
    "start_time": "2022-12-06T09:47:49.390Z"
   },
   {
    "duration": 5,
    "start_time": "2022-12-06T09:47:49.403Z"
   },
   {
    "duration": 111,
    "start_time": "2022-12-06T09:47:49.426Z"
   },
   {
    "duration": 9,
    "start_time": "2022-12-06T09:47:49.539Z"
   },
   {
    "duration": 19,
    "start_time": "2022-12-06T09:47:49.549Z"
   },
   {
    "duration": 5,
    "start_time": "2022-12-06T09:47:49.570Z"
   },
   {
    "duration": 57,
    "start_time": "2022-12-06T09:47:49.577Z"
   },
   {
    "duration": 6,
    "start_time": "2022-12-06T09:47:49.636Z"
   },
   {
    "duration": 88,
    "start_time": "2022-12-06T09:47:49.643Z"
   },
   {
    "duration": 11,
    "start_time": "2022-12-06T09:47:49.732Z"
   },
   {
    "duration": 2,
    "start_time": "2022-12-06T09:48:07.057Z"
   },
   {
    "duration": 1049,
    "start_time": "2022-12-06T09:48:23.329Z"
   },
   {
    "duration": 3,
    "start_time": "2022-12-06T09:48:24.379Z"
   },
   {
    "duration": 65,
    "start_time": "2022-12-06T09:48:24.383Z"
   },
   {
    "duration": 16,
    "start_time": "2022-12-06T09:48:24.450Z"
   },
   {
    "duration": 10,
    "start_time": "2022-12-06T09:48:24.468Z"
   },
   {
    "duration": 33,
    "start_time": "2022-12-06T09:48:24.480Z"
   },
   {
    "duration": 798,
    "start_time": "2022-12-06T09:48:24.514Z"
   },
   {
    "duration": 5,
    "start_time": "2022-12-06T09:48:25.313Z"
   },
   {
    "duration": 11,
    "start_time": "2022-12-06T09:48:25.325Z"
   },
   {
    "duration": 19,
    "start_time": "2022-12-06T09:48:25.338Z"
   },
   {
    "duration": 12,
    "start_time": "2022-12-06T09:48:25.358Z"
   },
   {
    "duration": 16,
    "start_time": "2022-12-06T09:48:25.371Z"
   },
   {
    "duration": 9,
    "start_time": "2022-12-06T09:48:25.388Z"
   },
   {
    "duration": 7,
    "start_time": "2022-12-06T09:48:25.399Z"
   },
   {
    "duration": 10,
    "start_time": "2022-12-06T09:48:25.408Z"
   },
   {
    "duration": 16,
    "start_time": "2022-12-06T09:48:25.419Z"
   },
   {
    "duration": 8,
    "start_time": "2022-12-06T09:48:25.436Z"
   },
   {
    "duration": 84,
    "start_time": "2022-12-06T09:48:25.445Z"
   },
   {
    "duration": 5,
    "start_time": "2022-12-06T09:48:25.531Z"
   },
   {
    "duration": 90,
    "start_time": "2022-12-06T09:48:25.537Z"
   },
   {
    "duration": 11,
    "start_time": "2022-12-06T09:48:25.629Z"
   },
   {
    "duration": 1072,
    "start_time": "2022-12-06T09:55:40.531Z"
   },
   {
    "duration": 4,
    "start_time": "2022-12-06T09:55:41.606Z"
   },
   {
    "duration": 77,
    "start_time": "2022-12-06T09:55:41.612Z"
   },
   {
    "duration": 14,
    "start_time": "2022-12-06T09:55:41.690Z"
   },
   {
    "duration": 11,
    "start_time": "2022-12-06T09:55:41.706Z"
   },
   {
    "duration": 24,
    "start_time": "2022-12-06T09:55:41.719Z"
   },
   {
    "duration": 867,
    "start_time": "2022-12-06T09:55:41.744Z"
   },
   {
    "duration": 15,
    "start_time": "2022-12-06T09:55:42.612Z"
   },
   {
    "duration": 33,
    "start_time": "2022-12-06T09:55:42.628Z"
   },
   {
    "duration": 35,
    "start_time": "2022-12-06T09:55:42.663Z"
   },
   {
    "duration": 23,
    "start_time": "2022-12-06T09:55:42.700Z"
   },
   {
    "duration": 21,
    "start_time": "2022-12-06T09:55:42.724Z"
   },
   {
    "duration": 25,
    "start_time": "2022-12-06T09:55:42.747Z"
   },
   {
    "duration": 21,
    "start_time": "2022-12-06T09:55:42.775Z"
   },
   {
    "duration": 11,
    "start_time": "2022-12-06T09:55:42.798Z"
   },
   {
    "duration": 10,
    "start_time": "2022-12-06T09:55:42.811Z"
   },
   {
    "duration": 12,
    "start_time": "2022-12-06T09:55:42.822Z"
   },
   {
    "duration": 92,
    "start_time": "2022-12-06T09:55:42.836Z"
   },
   {
    "duration": 8,
    "start_time": "2022-12-06T09:55:42.930Z"
   },
   {
    "duration": 95,
    "start_time": "2022-12-06T09:55:42.940Z"
   },
   {
    "duration": 13,
    "start_time": "2022-12-06T09:55:43.036Z"
   }
  ],
  "kernelspec": {
   "display_name": "Python 3 (ipykernel)",
   "language": "python",
   "name": "python3"
  },
  "language_info": {
   "codemirror_mode": {
    "name": "ipython",
    "version": 3
   },
   "file_extension": ".py",
   "mimetype": "text/x-python",
   "name": "python",
   "nbconvert_exporter": "python",
   "pygments_lexer": "ipython3",
   "version": "3.9.5"
  },
  "toc": {
   "base_numbering": 1,
   "nav_menu": {},
   "number_sections": true,
   "sideBar": true,
   "skip_h1_title": true,
   "title_cell": "Содержание",
   "title_sidebar": "Contents",
   "toc_cell": true,
   "toc_position": {
    "height": "calc(100% - 180px)",
    "left": "10px",
    "top": "150px",
    "width": "210.087px"
   },
   "toc_section_display": true,
   "toc_window_display": true
  },
  "vscode": {
   "interpreter": {
    "hash": "26de051ba29f2982a8de78e945f0abaf191376122a1563185a90213a26c5da77"
   }
  }
 },
 "nbformat": 4,
 "nbformat_minor": 2
}
